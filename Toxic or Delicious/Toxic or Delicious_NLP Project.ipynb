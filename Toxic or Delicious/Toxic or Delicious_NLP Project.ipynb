{
 "cells": [
  {
   "cell_type": "code",
   "execution_count": 1,
   "metadata": {},
   "outputs": [
    {
     "name": "stdout",
     "output_type": "stream",
     "text": [
      "Requirement already satisfied: gensim in c:\\users\\607223\\delicouscoding\\lib\\site-packages (3.8.3)\n",
      "Requirement already satisfied: numpy>=1.11.3 in c:\\users\\607223\\delicouscoding\\lib\\site-packages (from gensim) (1.16.4)\n",
      "Requirement already satisfied: six>=1.5.0 in c:\\users\\607223\\delicouscoding\\lib\\site-packages (from gensim) (1.12.0)\n",
      "Requirement already satisfied: Cython==0.29.14 in c:\\users\\607223\\delicouscoding\\lib\\site-packages (from gensim) (0.29.14)\n",
      "Requirement already satisfied: scipy>=0.18.1 in c:\\users\\607223\\delicouscoding\\lib\\site-packages (from gensim) (1.2.1)\n",
      "Requirement already satisfied: smart-open>=1.8.1 in c:\\users\\607223\\delicouscoding\\lib\\site-packages (from gensim) (2.1.0)\n",
      "Requirement already satisfied: requests in c:\\users\\607223\\delicouscoding\\lib\\site-packages (from smart-open>=1.8.1->gensim) (2.22.0)\n",
      "Requirement already satisfied: boto3 in c:\\users\\607223\\delicouscoding\\lib\\site-packages (from smart-open>=1.8.1->gensim) (1.14.33)\n",
      "Requirement already satisfied: boto in c:\\users\\607223\\delicouscoding\\lib\\site-packages (from smart-open>=1.8.1->gensim) (2.49.0)\n",
      "Requirement already satisfied: urllib3!=1.25.0,!=1.25.1,<1.26,>=1.21.1 in c:\\users\\607223\\delicouscoding\\lib\\site-packages (from requests->smart-open>=1.8.1->gensim) (1.24.2)\n",
      "Requirement already satisfied: certifi>=2017.4.17 in c:\\users\\607223\\delicouscoding\\lib\\site-packages (from requests->smart-open>=1.8.1->gensim) (2019.9.11)\n",
      "Requirement already satisfied: chardet<3.1.0,>=3.0.2 in c:\\users\\607223\\delicouscoding\\lib\\site-packages (from requests->smart-open>=1.8.1->gensim) (3.0.4)\n",
      "Requirement already satisfied: idna<2.9,>=2.5 in c:\\users\\607223\\delicouscoding\\lib\\site-packages (from requests->smart-open>=1.8.1->gensim) (2.8)\n",
      "Requirement already satisfied: s3transfer<0.4.0,>=0.3.0 in c:\\users\\607223\\delicouscoding\\lib\\site-packages (from boto3->smart-open>=1.8.1->gensim) (0.3.3)\n",
      "Requirement already satisfied: jmespath<1.0.0,>=0.7.1 in c:\\users\\607223\\delicouscoding\\lib\\site-packages (from boto3->smart-open>=1.8.1->gensim) (0.10.0)\n",
      "Requirement already satisfied: botocore<1.18.0,>=1.17.33 in c:\\users\\607223\\delicouscoding\\lib\\site-packages (from boto3->smart-open>=1.8.1->gensim) (1.17.33)\n",
      "Requirement already satisfied: python-dateutil<3.0.0,>=2.1 in c:\\users\\607223\\delicouscoding\\lib\\site-packages (from botocore<1.18.0,>=1.17.33->boto3->smart-open>=1.8.1->gensim) (2.8.0)\n",
      "Requirement already satisfied: docutils<0.16,>=0.10 in c:\\users\\607223\\delicouscoding\\lib\\site-packages (from botocore<1.18.0,>=1.17.33->boto3->smart-open>=1.8.1->gensim) (0.14)\n"
     ]
    }
   ],
   "source": [
    "# preliminary installation \n",
    "# gensim is a Natural Language Processing (NLP) library\n",
    "\n",
    "!pip install gensim"
   ]
  },
  {
   "cell_type": "code",
   "execution_count": 2,
   "metadata": {},
   "outputs": [],
   "source": [
    "# Imports for libraries and modules \n",
    "# MAKE SURE TO RUN THIS FOR THE CODE TO WORK\n",
    "\n",
    "import logging\n",
    "import pandas as pd\n",
    "import numpy as np\n",
    "from numpy import random\n",
    "import gensim\n",
    "import nltk\n",
    "from sklearn.model_selection import train_test_split\n",
    "from sklearn.feature_extraction.text import CountVectorizer, TfidfVectorizer\n",
    "from sklearn.metrics import accuracy_score, confusion_matrix\n",
    "import matplotlib.pyplot as plt\n",
    "from nltk.corpus import stopwords\n",
    "import re\n",
    "from bs4 import BeautifulSoup\n",
    "\n",
    "%matplotlib inline"
   ]
  },
  {
   "cell_type": "code",
   "execution_count": 19,
   "metadata": {},
   "outputs": [
    {
     "data": {
      "text/html": [
       "<div>\n",
       "<style scoped>\n",
       "    .dataframe tbody tr th:only-of-type {\n",
       "        vertical-align: middle;\n",
       "    }\n",
       "\n",
       "    .dataframe tbody tr th {\n",
       "        vertical-align: top;\n",
       "    }\n",
       "\n",
       "    .dataframe thead th {\n",
       "        text-align: right;\n",
       "    }\n",
       "</style>\n",
       "<table border=\"1\" class=\"dataframe\">\n",
       "  <thead>\n",
       "    <tr style=\"text-align: right;\">\n",
       "      <th></th>\n",
       "      <th>Tweets</th>\n",
       "      <th>Tags</th>\n",
       "    </tr>\n",
       "  </thead>\n",
       "  <tbody>\n",
       "    <tr>\n",
       "      <th>0</th>\n",
       "      <td>An inspiration in all aspects: Fashion</td>\n",
       "      <td>Delicious</td>\n",
       "    </tr>\n",
       "    <tr>\n",
       "      <th>1</th>\n",
       "      <td>go team</td>\n",
       "      <td>Delicious</td>\n",
       "    </tr>\n",
       "    <tr>\n",
       "      <th>2</th>\n",
       "      <td>literally beautiful just the way you are</td>\n",
       "      <td>Delicious</td>\n",
       "    </tr>\n",
       "    <tr>\n",
       "      <th>3</th>\n",
       "      <td>YASSSSS</td>\n",
       "      <td>Delicious</td>\n",
       "    </tr>\n",
       "    <tr>\n",
       "      <th>4</th>\n",
       "      <td>Beautiful album from  the greatest unsung guit...</td>\n",
       "      <td>Delicious</td>\n",
       "    </tr>\n",
       "    <tr>\n",
       "      <th>5</th>\n",
       "      <td>Good luck to Rich riding for great project in ...</td>\n",
       "      <td>Delicious</td>\n",
       "    </tr>\n",
       "    <tr>\n",
       "      <th>6</th>\n",
       "      <td>Omg he... kissed... him crying with joy</td>\n",
       "      <td>Delicious</td>\n",
       "    </tr>\n",
       "    <tr>\n",
       "      <th>7</th>\n",
       "      <td>happy anniv ming and papi!!!!! love love happy</td>\n",
       "      <td>Delicious</td>\n",
       "    </tr>\n",
       "    <tr>\n",
       "      <th>8</th>\n",
       "      <td>music feeds my soul</td>\n",
       "      <td>Delicious</td>\n",
       "    </tr>\n",
       "    <tr>\n",
       "      <th>9</th>\n",
       "      <td>dancing in my room , feeling happy</td>\n",
       "      <td>Delicious</td>\n",
       "    </tr>\n",
       "  </tbody>\n",
       "</table>\n",
       "</div>"
      ],
      "text/plain": [
       "                                              Tweets       Tags\n",
       "0             An inspiration in all aspects: Fashion  Delicious\n",
       "1                                            go team  Delicious\n",
       "2           literally beautiful just the way you are  Delicious\n",
       "3                                            YASSSSS  Delicious\n",
       "4  Beautiful album from  the greatest unsung guit...  Delicious\n",
       "5  Good luck to Rich riding for great project in ...  Delicious\n",
       "6            Omg he... kissed... him crying with joy  Delicious\n",
       "7     happy anniv ming and papi!!!!! love love happy  Delicious\n",
       "8                                music feeds my soul  Delicious\n",
       "9                 dancing in my room , feeling happy  Delicious"
      ]
     },
     "execution_count": 19,
     "metadata": {},
     "output_type": "execute_result"
    }
   ],
   "source": [
    "# Read csv of pre-matched Tweets to Tags\n",
    "\n",
    "df = pd.read_csv('tweets.csv')\n",
    "df = df[pd.notnull(df['Tags'])]\n",
    "df.head(10)"
   ]
  },
  {
   "cell_type": "code",
   "execution_count": 20,
   "metadata": {},
   "outputs": [
    {
     "data": {
      "image/png": "[encoded data removed]",
      "text/plain": [
       "<Figure size 720x288 with 1 Axes>"
      ]
     },
     "metadata": {
      "needs_background": "light"
     },
     "output_type": "display_data"
    }
   ],
   "source": [
    "# Create a bar chart to analyze tags and see which tags are used the most\n",
    "# my_tags is the list of tags we'll want to use to for the NLP model (further down)\n",
    "\n",
    "my_tags = ['Delicious','Toxic']\n",
    "plt.figure(figsize=(10,4))\n",
    "df.Tags.value_counts().plot(kind='bar');"
   ]
  },
  {
   "cell_type": "code",
   "execution_count": 21,
   "metadata": {},
   "outputs": [],
   "source": [
    "# Create a function that match tweet and tag\n",
    "\n",
    "def print_plot(index):\n",
    "    example = df[df.index == index][['Tweets', 'Tags']].values[0]\n",
    "    if len(example) > 0:\n",
    "        print(example[0])\n",
    "        print('Tag:', example[1])"
   ]
  },
  {
   "cell_type": "code",
   "execution_count": 22,
   "metadata": {},
   "outputs": [
    {
     "name": "stdout",
     "output_type": "stream",
     "text": [
      " Join  vote for the singer! Do spread the word. :D\n",
      "Tag: Delicious\n"
     ]
    }
   ],
   "source": [
    "# Print plot at the 10th index\n",
    "\n",
    "print_plot(10)"
   ]
  },
  {
   "cell_type": "code",
   "execution_count": 23,
   "metadata": {},
   "outputs": [
    {
     "name": "stderr",
     "output_type": "stream",
     "text": [
      "[nltk_data] Downloading package stopwords to\n",
      "[nltk_data]     C:\\Users\\607223\\AppData\\Roaming\\nltk_data...\n",
      "[nltk_data]   Package stopwords is already up-to-date!\n"
     ]
    },
    {
     "data": {
      "text/plain": [
       "True"
      ]
     },
     "execution_count": 23,
     "metadata": {},
     "output_type": "execute_result"
    }
   ],
   "source": [
    "# make sure to use the stopwords\n",
    "\n",
    "nltk.download('stopwords')"
   ]
  },
  {
   "cell_type": "code",
   "execution_count": 24,
   "metadata": {},
   "outputs": [],
   "source": [
    "#Clean up Text just in case there are anomalies in text\n",
    "\n",
    "REPLACE_BY_SPACE_RE = re.compile('[/(){}\\[\\]\\|@,;]')\n",
    "BAD_SYMBOLS_RE = re.compile('[^0-9a-z #+_]')\n",
    "STOPWORDS = set(stopwords.words('english'))\n",
    "\n",
    "def clean_text(text):\n",
    "    \"\"\"\n",
    "        text: a string\n",
    "        \n",
    "        return: modified initial string\n",
    "    \"\"\"\n",
    "    text = BeautifulSoup(text, \"lxml\").text # HTML decoding\n",
    "    text = text.lower() # lowercase text\n",
    "    text = REPLACE_BY_SPACE_RE.sub(' ', text) # replace REPLACE_BY_SPACE_RE symbols by space in text\n",
    "    text = BAD_SYMBOLS_RE.sub('', text) # delete symbols which are in BAD_SYMBOLS_RE from text\n",
    "    text = ' '.join(word for word in text.split() if word not in STOPWORDS) # delete stopwords from text\n",
    "    return text"
   ]
  },
  {
   "cell_type": "code",
   "execution_count": 25,
   "metadata": {},
   "outputs": [],
   "source": [
    "# Use our clean_text function to clean up the text in the 'Tweets' column in our dataframe (df)\n",
    "\n",
    "df['Tweets'] = df['Tweets'].apply(clean_text)"
   ]
  },
  {
   "cell_type": "code",
   "execution_count": 26,
   "metadata": {},
   "outputs": [
    {
     "name": "stdout",
     "output_type": "stream",
     "text": [
      "join vote singer spread word\n",
      "Tag: Delicious\n"
     ]
    }
   ],
   "source": [
    "print_plot(10)"
   ]
  },
  {
   "cell_type": "code",
   "execution_count": 28,
   "metadata": {},
   "outputs": [
    {
     "data": {
      "text/plain": [
       "13561"
      ]
     },
     "execution_count": 28,
     "metadata": {},
     "output_type": "execute_result"
    }
   ],
   "source": [
    "# How many words are we working with?\n",
    "\n",
    "df['Tweets'].apply(lambda x: len(x.split(' '))).sum()"
   ]
  },
  {
   "cell_type": "code",
   "execution_count": 29,
   "metadata": {},
   "outputs": [],
   "source": [
    "# The next steps includes feature engineering. \n",
    "# Convert Titles to a matrix of token counts (CountVectorizer), then transform a count matrix to a normalized tf-idf representation (tf-idf transformer). \n",
    "# Then we'll train several classifiers\n",
    "\n",
    "X = df.Tweets\n",
    "y = df.Tags\n",
    "X_train, X_test, y_train, y_test = train_test_split(X, y, test_size=0.3, random_state = 42)"
   ]
  },
  {
   "cell_type": "code",
   "execution_count": 38,
   "metadata": {},
   "outputs": [],
   "source": [
    "# See accuracy of Linear support vector machine\n",
    "\n",
    "from sklearn.linear_model import SGDClassifier\n",
    "from sklearn.pipeline import Pipeline\n",
    "from sklearn.feature_extraction.text import TfidfTransformer\n",
    "from sklearn.feature_extraction.text import CountVectorizer\n",
    "from sklearn.metrics import classification_report"
   ]
  },
  {
   "cell_type": "code",
   "execution_count": 39,
   "metadata": {},
   "outputs": [
    {
     "data": {
      "text/plain": [
       "Pipeline(memory=None,\n",
       "         steps=[('vect',\n",
       "                 CountVectorizer(analyzer='word', binary=False,\n",
       "                                 decode_error='strict',\n",
       "                                 dtype=<class 'numpy.int64'>, encoding='utf-8',\n",
       "                                 input='content', lowercase=True, max_df=1.0,\n",
       "                                 max_features=None, min_df=1,\n",
       "                                 ngram_range=(1, 1), preprocessor=None,\n",
       "                                 stop_words=None, strip_accents=None,\n",
       "                                 token_pattern='(?u)\\\\b\\\\w\\\\w+\\\\b',\n",
       "                                 tokenizer=None, vocabulary=Non...\n",
       "                ('clf',\n",
       "                 SGDClassifier(alpha=0.001, average=False, class_weight=None,\n",
       "                               early_stopping=False, epsilon=0.1, eta0=0.0,\n",
       "                               fit_intercept=True, l1_ratio=0.15,\n",
       "                               learning_rate='optimal', loss='hinge',\n",
       "                               max_iter=5, n_iter_no_change=5, n_jobs=None,\n",
       "                               penalty='l2', power_t=0.5, random_state=42,\n",
       "                               shuffle=True, tol=None, validation_fraction=0.1,\n",
       "                               verbose=0, warm_start=False))],\n",
       "         verbose=False)"
      ]
     },
     "execution_count": 39,
     "metadata": {},
     "output_type": "execute_result"
    }
   ],
   "source": [
    "# sgd = stochastic gradient descent\n",
    "\n",
    "sgd = Pipeline([('vect', CountVectorizer()),\n",
    "                ('tfidf', TfidfTransformer()),\n",
    "                ('clf', SGDClassifier(loss='hinge', penalty='l2',alpha=1e-3, random_state=42, max_iter=5, tol=None)),\n",
    "               ])\n",
    "sgd.fit(X_train, y_train)"
   ]
  },
  {
   "cell_type": "code",
   "execution_count": 40,
   "metadata": {},
   "outputs": [
    {
     "name": "stdout",
     "output_type": "stream",
     "text": [
      "accuracy 0.91027496382055\n",
      "              precision    recall  f1-score   support\n",
      "\n",
      "   Delicious       0.88      0.96      0.92       362\n",
      "       Toxic       0.95      0.85      0.90       329\n",
      "\n",
      "    accuracy                           0.91       691\n",
      "   macro avg       0.92      0.91      0.91       691\n",
      "weighted avg       0.91      0.91      0.91       691\n",
      "\n"
     ]
    }
   ],
   "source": [
    "# let's see what the algorithm generates\n",
    "\n",
    "y_pred = sgd.predict(X_test)\n",
    "\n",
    "print('accuracy %s' % accuracy_score(y_pred, y_test))\n",
    "print(classification_report(y_test, y_pred,target_names=my_tags))"
   ]
  },
  {
   "cell_type": "code",
   "execution_count": 42,
   "metadata": {},
   "outputs": [
    {
     "data": {
      "text/html": [
       "<div>\n",
       "<style scoped>\n",
       "    .dataframe tbody tr th:only-of-type {\n",
       "        vertical-align: middle;\n",
       "    }\n",
       "\n",
       "    .dataframe tbody tr th {\n",
       "        vertical-align: top;\n",
       "    }\n",
       "\n",
       "    .dataframe thead th {\n",
       "        text-align: right;\n",
       "    }\n",
       "</style>\n",
       "<table border=\"1\" class=\"dataframe\">\n",
       "  <thead>\n",
       "    <tr style=\"text-align: right;\">\n",
       "      <th></th>\n",
       "      <th>Tweets</th>\n",
       "    </tr>\n",
       "  </thead>\n",
       "  <tbody>\n",
       "    <tr>\n",
       "      <th>0</th>\n",
       "      <td>Pak PM survives removal scare</td>\n",
       "    </tr>\n",
       "    <tr>\n",
       "      <th>1</th>\n",
       "      <td>but court orders further probe into corruptio...</td>\n",
       "    </tr>\n",
       "    <tr>\n",
       "      <th>2</th>\n",
       "      <td>Supreme Court quashes criminal complaint again...</td>\n",
       "    </tr>\n",
       "    <tr>\n",
       "      <th>3</th>\n",
       "      <td>Art of Living's fights back over Yamuna floodp...</td>\n",
       "    </tr>\n",
       "    <tr>\n",
       "      <th>4</th>\n",
       "      <td>livid.</td>\n",
       "    </tr>\n",
       "    <tr>\n",
       "      <th>5</th>\n",
       "      <td>FCRA slap on NGO for lobbying...But was it doi...</td>\n",
       "    </tr>\n",
       "    <tr>\n",
       "      <th>6</th>\n",
       "      <td>Why doctors</td>\n",
       "    </tr>\n",
       "    <tr>\n",
       "      <th>7</th>\n",
       "      <td>pharma companies are opposing names on</td>\n",
       "    </tr>\n",
       "    <tr>\n",
       "      <th>8</th>\n",
       "      <td>Why a bicycle and not a CM asked. His officer ...</td>\n",
       "    </tr>\n",
       "    <tr>\n",
       "      <th>9</th>\n",
       "      <td>It's 2017. making law to ban And MHA is sittin...</td>\n",
       "    </tr>\n",
       "  </tbody>\n",
       "</table>\n",
       "</div>"
      ],
      "text/plain": [
       "                                              Tweets\n",
       "0                      Pak PM survives removal scare\n",
       "1   but court orders further probe into corruptio...\n",
       "2  Supreme Court quashes criminal complaint again...\n",
       "3  Art of Living's fights back over Yamuna floodp...\n",
       "4                                            livid. \n",
       "5  FCRA slap on NGO for lobbying...But was it doi...\n",
       "6                                        Why doctors\n",
       "7            pharma companies are opposing names on \n",
       "8  Why a bicycle and not a CM asked. His officer ...\n",
       "9  It's 2017. making law to ban And MHA is sittin..."
      ]
     },
     "execution_count": 42,
     "metadata": {},
     "output_type": "execute_result"
    }
   ],
   "source": [
    "#Upload new data to feed the model for predictions\n",
    "\n",
    "df_newdata = pd.read_csv('new_tweets.csv')\n",
    "df_newdata.head(10)"
   ]
  },
  {
   "cell_type": "code",
   "execution_count": 43,
   "metadata": {},
   "outputs": [],
   "source": [
    "#Remember the clean_text function? we're calling her again\n",
    "\n",
    "df_newdata['Tweets'] = df_newdata['Tweets'].apply(clean_text)"
   ]
  },
  {
   "cell_type": "code",
   "execution_count": 44,
   "metadata": {},
   "outputs": [
    {
     "data": {
      "text/html": [
       "<div>\n",
       "<style scoped>\n",
       "    .dataframe tbody tr th:only-of-type {\n",
       "        vertical-align: middle;\n",
       "    }\n",
       "\n",
       "    .dataframe tbody tr th {\n",
       "        vertical-align: top;\n",
       "    }\n",
       "\n",
       "    .dataframe thead th {\n",
       "        text-align: right;\n",
       "    }\n",
       "</style>\n",
       "<table border=\"1\" class=\"dataframe\">\n",
       "  <thead>\n",
       "    <tr style=\"text-align: right;\">\n",
       "      <th></th>\n",
       "      <th>Tweets</th>\n",
       "    </tr>\n",
       "  </thead>\n",
       "  <tbody>\n",
       "    <tr>\n",
       "      <th>0</th>\n",
       "      <td>pak pm survives removal scare</td>\n",
       "    </tr>\n",
       "    <tr>\n",
       "      <th>1</th>\n",
       "      <td>court orders probe corruption charge</td>\n",
       "    </tr>\n",
       "    <tr>\n",
       "      <th>2</th>\n",
       "      <td>supreme court quashes criminal complaint crick...</td>\n",
       "    </tr>\n",
       "    <tr>\n",
       "      <th>3</th>\n",
       "      <td>art livings fights back yamuna floodplain damage</td>\n",
       "    </tr>\n",
       "    <tr>\n",
       "      <th>4</th>\n",
       "      <td>livid</td>\n",
       "    </tr>\n",
       "    <tr>\n",
       "      <th>5</th>\n",
       "      <td>fcra slap ngo lobbyingbut part govt campaign</td>\n",
       "    </tr>\n",
       "    <tr>\n",
       "      <th>6</th>\n",
       "      <td>doctors</td>\n",
       "    </tr>\n",
       "    <tr>\n",
       "      <th>7</th>\n",
       "      <td>pharma companies opposing names</td>\n",
       "    </tr>\n",
       "    <tr>\n",
       "      <th>8</th>\n",
       "      <td>bicycle cm asked officer learnt ground reality...</td>\n",
       "    </tr>\n",
       "    <tr>\n",
       "      <th>9</th>\n",
       "      <td>2017 making law ban mha sitting draft</td>\n",
       "    </tr>\n",
       "  </tbody>\n",
       "</table>\n",
       "</div>"
      ],
      "text/plain": [
       "                                              Tweets\n",
       "0                      pak pm survives removal scare\n",
       "1               court orders probe corruption charge\n",
       "2  supreme court quashes criminal complaint crick...\n",
       "3   art livings fights back yamuna floodplain damage\n",
       "4                                              livid\n",
       "5       fcra slap ngo lobbyingbut part govt campaign\n",
       "6                                            doctors\n",
       "7                    pharma companies opposing names\n",
       "8  bicycle cm asked officer learnt ground reality...\n",
       "9              2017 making law ban mha sitting draft"
      ]
     },
     "execution_count": 44,
     "metadata": {},
     "output_type": "execute_result"
    }
   ],
   "source": [
    "# How does our cleaned data look?\n",
    "\n",
    "df_newdata.head(10)"
   ]
  },
  {
   "cell_type": "code",
   "execution_count": 45,
   "metadata": {},
   "outputs": [
    {
     "data": {
      "text/plain": [
       "7334"
      ]
     },
     "execution_count": 45,
     "metadata": {},
     "output_type": "execute_result"
    }
   ],
   "source": [
    "# How many words are we working with with our new data set?\n",
    "\n",
    "df_newdata['Tweets'].apply(lambda x: len(x.split(' '))).sum()"
   ]
  },
  {
   "cell_type": "code",
   "execution_count": 46,
   "metadata": {},
   "outputs": [],
   "source": [
    "# Assign our 'Tweets' to a variable\n",
    "\n",
    "X_newdata = df_newdata.Tweets"
   ]
  },
  {
   "cell_type": "code",
   "execution_count": 47,
   "metadata": {},
   "outputs": [
    {
     "name": "stdout",
     "output_type": "stream",
     "text": [
      "0                           pak pm survives removal scare\n",
      "1                    court orders probe corruption charge\n",
      "2       supreme court quashes criminal complaint crick...\n",
      "3        art livings fights back yamuna floodplain damage\n",
      "4                                                   livid\n",
      "5            fcra slap ngo lobbyingbut part govt campaign\n",
      "6                                                 doctors\n",
      "7                         pharma companies opposing names\n",
      "8       bicycle cm asked officer learnt ground reality...\n",
      "9                   2017 making law ban mha sitting draft\n",
      "10          rivals govts unite act sexdetermination tests\n",
      "11      haryana peasants demand justice right cattle t...\n",
      "12      schools calcutta elsewhere stunned imposition ...\n",
      "13                                         renamed places\n",
      "14                                             oooh shame\n",
      "15                             trauma driving without red\n",
      "16                          flashing light paying parking\n",
      "17                  learn live without flashing red light\n",
      "18                                       bjp leaders dock\n",
      "19                                             lose light\n",
      "20                                            naming game\n",
      "21                                            also epaper\n",
      "22       uk parliament votes 522 13 favour early national\n",
      "23      april 19 1906 nobel laureate pierre curie run ...\n",
      "24                                                  paris\n",
      "25                                                 killed\n",
      "26                          india end culture sirens cars\n",
      "27                                                  may 1\n",
      "28                                       vehicles gadkari\n",
      "29                                                cars pm\n",
      "                              ...                        \n",
      "1536        live pranab mukherjee address parliament 11am\n",
      "1537    countrys first conviction minister sentenced 7...\n",
      "1538    economic survey tabled parliament shortly know...\n",
      "1539                          sibal datar spike bcci wish\n",
      "1540    president trump fires top government lawyer sa...\n",
      "1541                                       fm table today\n",
      "1542               trumps order parallel citizenship bill\n",
      "1543                           prabhat patnaik monumental\n",
      "1544                                 farmers dumping crop\n",
      "1545           supreme court ropes former top auditor run\n",
      "1546                      one suggested names icc meeting\n",
      "1547                                pakistan pressure ban\n",
      "1548                                        auditors helm\n",
      "1549                                    madam also epaper\n",
      "1550    limits cash withdrawals bank accounts atms res...\n",
      "1551                                               outcry\n",
      "1552           us loosens curb reentry green card holders\n",
      "1553    five soldiers machhil attain martyrdom detaile...\n",
      "1554            dept crackdown hoarders issues 87 notices\n",
      "1555                  attaches 42 assets worth crores new\n",
      "1556              payments bank offer 45 deposits rs25000\n",
      "1557                                      5 rs 2500050000\n",
      "1558                                    55 rs 50000100000\n",
      "1559    supreme court shoots govt bid put sports minis...\n",
      "1560                                   historian ram guha\n",
      "1561                          idfc official vikram limaye\n",
      "1562         former captain diana edulji others panel run\n",
      "1563    supreme court names former cag head 4member pa...\n",
      "1564    court summons cm suspended bjp mp accused crim...\n",
      "1565    amulya patnaik appointed new delhi police comm...\n",
      "Name: Tweets, Length: 1566, dtype: object ['Delicious' 'Delicious' 'Delicious' ... 'Delicious' 'Delicious'\n",
      " 'Delicious']\n"
     ]
    }
   ],
   "source": [
    "# Use our sgd model to make predictions for our new input\n",
    "\n",
    "y_newdata = sgd.predict(X_newdata)\n",
    "print(X_newdata, y_newdata)"
   ]
  },
  {
   "cell_type": "code",
   "execution_count": 48,
   "metadata": {},
   "outputs": [
    {
     "data": {
      "text/html": [
       "<div>\n",
       "<style scoped>\n",
       "    .dataframe tbody tr th:only-of-type {\n",
       "        vertical-align: middle;\n",
       "    }\n",
       "\n",
       "    .dataframe tbody tr th {\n",
       "        vertical-align: top;\n",
       "    }\n",
       "\n",
       "    .dataframe thead th {\n",
       "        text-align: right;\n",
       "    }\n",
       "</style>\n",
       "<table border=\"1\" class=\"dataframe\">\n",
       "  <thead>\n",
       "    <tr style=\"text-align: right;\">\n",
       "      <th></th>\n",
       "      <th>Tweets</th>\n",
       "      <th>New Tags</th>\n",
       "    </tr>\n",
       "  </thead>\n",
       "  <tbody>\n",
       "    <tr>\n",
       "      <th>0</th>\n",
       "      <td>pak pm survives removal scare</td>\n",
       "      <td>Delicious</td>\n",
       "    </tr>\n",
       "    <tr>\n",
       "      <th>1</th>\n",
       "      <td>court orders probe corruption charge</td>\n",
       "      <td>Delicious</td>\n",
       "    </tr>\n",
       "    <tr>\n",
       "      <th>2</th>\n",
       "      <td>supreme court quashes criminal complaint crick...</td>\n",
       "      <td>Delicious</td>\n",
       "    </tr>\n",
       "    <tr>\n",
       "      <th>3</th>\n",
       "      <td>art livings fights back yamuna floodplain damage</td>\n",
       "      <td>Delicious</td>\n",
       "    </tr>\n",
       "    <tr>\n",
       "      <th>4</th>\n",
       "      <td>livid</td>\n",
       "      <td>Delicious</td>\n",
       "    </tr>\n",
       "    <tr>\n",
       "      <th>5</th>\n",
       "      <td>fcra slap ngo lobbyingbut part govt campaign</td>\n",
       "      <td>Toxic</td>\n",
       "    </tr>\n",
       "    <tr>\n",
       "      <th>6</th>\n",
       "      <td>doctors</td>\n",
       "      <td>Delicious</td>\n",
       "    </tr>\n",
       "    <tr>\n",
       "      <th>7</th>\n",
       "      <td>pharma companies opposing names</td>\n",
       "      <td>Delicious</td>\n",
       "    </tr>\n",
       "    <tr>\n",
       "      <th>8</th>\n",
       "      <td>bicycle cm asked officer learnt ground reality...</td>\n",
       "      <td>Delicious</td>\n",
       "    </tr>\n",
       "    <tr>\n",
       "      <th>9</th>\n",
       "      <td>2017 making law ban mha sitting draft</td>\n",
       "      <td>Delicious</td>\n",
       "    </tr>\n",
       "    <tr>\n",
       "      <th>10</th>\n",
       "      <td>rivals govts unite act sexdetermination tests</td>\n",
       "      <td>Delicious</td>\n",
       "    </tr>\n",
       "    <tr>\n",
       "      <th>11</th>\n",
       "      <td>haryana peasants demand justice right cattle t...</td>\n",
       "      <td>Delicious</td>\n",
       "    </tr>\n",
       "    <tr>\n",
       "      <th>12</th>\n",
       "      <td>schools calcutta elsewhere stunned imposition ...</td>\n",
       "      <td>Delicious</td>\n",
       "    </tr>\n",
       "    <tr>\n",
       "      <th>13</th>\n",
       "      <td>renamed places</td>\n",
       "      <td>Delicious</td>\n",
       "    </tr>\n",
       "    <tr>\n",
       "      <th>14</th>\n",
       "      <td>oooh shame</td>\n",
       "      <td>Delicious</td>\n",
       "    </tr>\n",
       "    <tr>\n",
       "      <th>15</th>\n",
       "      <td>trauma driving without red</td>\n",
       "      <td>Delicious</td>\n",
       "    </tr>\n",
       "    <tr>\n",
       "      <th>16</th>\n",
       "      <td>flashing light paying parking</td>\n",
       "      <td>Delicious</td>\n",
       "    </tr>\n",
       "    <tr>\n",
       "      <th>17</th>\n",
       "      <td>learn live without flashing red light</td>\n",
       "      <td>Delicious</td>\n",
       "    </tr>\n",
       "    <tr>\n",
       "      <th>18</th>\n",
       "      <td>bjp leaders dock</td>\n",
       "      <td>Delicious</td>\n",
       "    </tr>\n",
       "    <tr>\n",
       "      <th>19</th>\n",
       "      <td>lose light</td>\n",
       "      <td>Delicious</td>\n",
       "    </tr>\n",
       "  </tbody>\n",
       "</table>\n",
       "</div>"
      ],
      "text/plain": [
       "                                               Tweets   New Tags\n",
       "0                       pak pm survives removal scare  Delicious\n",
       "1                court orders probe corruption charge  Delicious\n",
       "2   supreme court quashes criminal complaint crick...  Delicious\n",
       "3    art livings fights back yamuna floodplain damage  Delicious\n",
       "4                                               livid  Delicious\n",
       "5        fcra slap ngo lobbyingbut part govt campaign      Toxic\n",
       "6                                             doctors  Delicious\n",
       "7                     pharma companies opposing names  Delicious\n",
       "8   bicycle cm asked officer learnt ground reality...  Delicious\n",
       "9               2017 making law ban mha sitting draft  Delicious\n",
       "10      rivals govts unite act sexdetermination tests  Delicious\n",
       "11  haryana peasants demand justice right cattle t...  Delicious\n",
       "12  schools calcutta elsewhere stunned imposition ...  Delicious\n",
       "13                                     renamed places  Delicious\n",
       "14                                         oooh shame  Delicious\n",
       "15                         trauma driving without red  Delicious\n",
       "16                      flashing light paying parking  Delicious\n",
       "17              learn live without flashing red light  Delicious\n",
       "18                                   bjp leaders dock  Delicious\n",
       "19                                         lose light  Delicious"
      ]
     },
     "execution_count": 48,
     "metadata": {},
     "output_type": "execute_result"
    }
   ],
   "source": [
    "# Format the new predictions with a dataframe that will have new data and their predicted new tags\n",
    "# Using DataFrame.insert() to add a 'New Tags' column \n",
    "  \n",
    "df_newdata.insert(1, 'New Tags', y_newdata, False)\n",
    "df_newdata.head(20)"
   ]
  },
  {
   "cell_type": "code",
   "execution_count": 49,
   "metadata": {},
   "outputs": [],
   "source": [
    "#save the dataframe to csv\n",
    "df_newdata.to_csv('NLP_Classified_Tweets.csv', index=True)"
   ]
  },
  {
   "cell_type": "code",
   "execution_count": null,
   "metadata": {},
   "outputs": [],
   "source": []
  }
 ],
 "metadata": {
  "kernelspec": {
   "display_name": "Python 3",
   "language": "python",
   "name": "python3"
  },
  "language_info": {
   "codemirror_mode": {
    "name": "ipython",
    "version": 3
   },
   "file_extension": ".py",
   "mimetype": "text/x-python",
   "name": "python",
   "nbconvert_exporter": "python",
   "pygments_lexer": "ipython3",
   "version": "3.7.3"
  }
 },
 "nbformat": 4,
 "nbformat_minor": 2
}
